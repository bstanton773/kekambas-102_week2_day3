{
 "cells": [
  {
   "cell_type": "markdown",
   "metadata": {},
   "source": [
    "# Functions"
   ]
  },
  {
   "cell_type": "markdown",
   "metadata": {},
   "source": [
    "#### Warm up"
   ]
  },
  {
   "cell_type": "code",
   "execution_count": 134,
   "metadata": {},
   "outputs": [],
   "source": [
    "bands = ['  thE beATles   ', 'tHe RoLLing sTones..', '.,tHe eagles', 'the tEMptationS  ']\n"
   ]
  },
  {
   "cell_type": "code",
   "execution_count": 135,
   "metadata": {},
   "outputs": [],
   "source": [
    "# Output: ['The Beatles', 'The Rolling Stones', etc]"
   ]
  },
  {
   "cell_type": "code",
   "execution_count": 136,
   "metadata": {},
   "outputs": [],
   "source": [
    "bands2 = [' The whO  ', '  .   , tHE dOORS  ', ' the bAnd   ', '...,  THE kINks    ']\n",
    "\n"
   ]
  },
  {
   "cell_type": "markdown",
   "metadata": {},
   "source": [
    "## Functions"
   ]
  },
  {
   "cell_type": "markdown",
   "metadata": {},
   "source": [
    "##### User-Defined vs. Built-In Function"
   ]
  },
  {
   "cell_type": "code",
   "execution_count": 2,
   "metadata": {},
   "outputs": [
    {
     "name": "stdout",
     "output_type": "stream",
     "text": [
      "<built-in function max>\n",
      "Help on built-in function max in module builtins:\n",
      "\n",
      "max(...)\n",
      "    max(iterable, *[, default=obj, key=func]) -> value\n",
      "    max(arg1, arg2, *args, *[, key=func]) -> value\n",
      "    \n",
      "    With a single iterable argument, return its biggest item. The\n",
      "    default keyword-only argument specifies an object to return if\n",
      "    the provided iterable is empty.\n",
      "    With two or more arguments, return the largest argument.\n",
      "\n"
     ]
    }
   ],
   "source": [
    "# Built-in functions\n",
    "print(max)\n",
    "help(max)"
   ]
  },
  {
   "cell_type": "code",
   "execution_count": null,
   "metadata": {},
   "outputs": [],
   "source": [
    "# D.R.Y. principle\n",
    "# Dont Repeat Yourself!"
   ]
  },
  {
   "cell_type": "code",
   "execution_count": 5,
   "metadata": {},
   "outputs": [
    {
     "name": "stdout",
     "output_type": "stream",
     "text": [
      "<function say_hello at 0x000002B63365C8B0>\n"
     ]
    },
    {
     "data": {
      "text/plain": [
       "<function __main__.say_hello()>"
      ]
     },
     "execution_count": 5,
     "metadata": {},
     "output_type": "execute_result"
    }
   ],
   "source": [
    "# User Defined Function\n",
    "# Syntax: def function_name():\n",
    "#             <CODE TO EXECUTE WHEN CALLED>\n",
    "\n",
    "# Creating a function\n",
    "def say_hello(): # Defining the function\n",
    "    print('Hello!')\n",
    "    \n",
    "print(say_hello)\n",
    "say_hello"
   ]
  },
  {
   "cell_type": "code",
   "execution_count": 6,
   "metadata": {},
   "outputs": [
    {
     "name": "stdout",
     "output_type": "stream",
     "text": [
      "Help on function say_hello in module __main__:\n",
      "\n",
      "say_hello()\n",
      "    # Creating a function\n",
      "\n"
     ]
    }
   ],
   "source": [
    "help(say_hello)"
   ]
  },
  {
   "cell_type": "code",
   "execution_count": 10,
   "metadata": {},
   "outputs": [
    {
     "name": "stdout",
     "output_type": "stream",
     "text": [
      "Before the function execution\n",
      "Hello!\n",
      "After the function execution\n"
     ]
    }
   ],
   "source": [
    "# Executing a function\n",
    "# Syntax: function_name()\n",
    "\n",
    "print('Before the function execution')\n",
    "say_hello() # executing the function - don't forget the ()\n",
    "print('After the function execution')"
   ]
  },
  {
   "cell_type": "markdown",
   "metadata": {},
   "source": [
    "##### Accepting Parameters"
   ]
  },
  {
   "cell_type": "code",
   "execution_count": 17,
   "metadata": {},
   "outputs": [
    {
     "name": "stdout",
     "output_type": "stream",
     "text": [
      "Hello Brian Stanton\n",
      "Hello Stanton Brian\n"
     ]
    }
   ],
   "source": [
    "# Syntax: def function_name(param1, param2):\n",
    "#             <CODE TO EXECUTE with variable param1 and param2>\n",
    "\n",
    "def say_hello(first, last): # <- first and last are parameters (aka placeholders)\n",
    "    print(f\"Hello {first} {last}\")\n",
    "    \n",
    "# Execute\n",
    "# Syntax: function_name(data1, data2)\n",
    "say_hello('Brian', 'Stanton') # <- 'Brian' and 'Stanton' are arguments (aka real data)\n",
    "say_hello('Stanton', 'Brian') # POSITION MATTERS! "
   ]
  },
  {
   "cell_type": "code",
   "execution_count": 21,
   "metadata": {},
   "outputs": [],
   "source": [
    "# say_hello('Brian')"
   ]
  },
  {
   "cell_type": "markdown",
   "metadata": {},
   "source": [
    "##### Passing in variables as arguments"
   ]
  },
  {
   "cell_type": "code",
   "execution_count": 24,
   "metadata": {},
   "outputs": [
    {
     "name": "stdout",
     "output_type": "stream",
     "text": [
      "Chicago, IL - 60606\n",
      "Boston, MA - 02215\n",
      "New York, NY - 10451\n"
     ]
    }
   ],
   "source": [
    "city1 = 'Boston'\n",
    "state1 = 'MA'\n",
    "zip_code1 = '02215'\n",
    "city2 = 'New York'\n",
    "state2 = 'NY'\n",
    "zip_code2 = '10451'\n",
    "\n",
    "# City, State - ZipCode\n",
    "\n",
    "def format_address(city, state, zip_code):\n",
    "    print(f\"{city}, {state} - {zip_code}\")\n",
    "    \n",
    "\n",
    "format_address('Chicago', 'IL', '60606')\n",
    "format_address(city1, state1, zip_code1)\n",
    "format_address(city2, state2, zip_code2)"
   ]
  },
  {
   "cell_type": "code",
   "execution_count": 26,
   "metadata": {},
   "outputs": [
    {
     "name": "stdout",
     "output_type": "stream",
     "text": [
      "What is your first name? brian\n",
      "What is your last name? stanton\n",
      "What is your address? 123 real street\n",
      "In which city do you live? chicago\n",
      "In which state do you live? il\n",
      "What is your zip code? 60606\n",
      "\n",
      "    Brian Stanton\n",
      "    123 Real Street\n",
      "    Chicago, IL, 60606\n",
      "    \n"
     ]
    }
   ],
   "source": [
    "def set_up_mail(first_name, last_name, address, city, state, zip_code):\n",
    "    print(f\"\"\"\n",
    "    {first_name.title()} {last_name.title()}\n",
    "    {address.title()}\n",
    "    {city.title()}, {state.upper()}, {zip_code}\n",
    "    \"\"\")\n",
    "    \n",
    "first = input('What is your first name? ')\n",
    "last = input('What is your last name? ')\n",
    "address = input('What is your address? ')\n",
    "city = input('In which city do you live? ')\n",
    "state = input('In which state do you live? ')\n",
    "zip_code = input('What is your zip code? ')\n",
    "\n",
    "set_up_mail(first, last, address, city, state, zip_code)"
   ]
  },
  {
   "cell_type": "markdown",
   "metadata": {},
   "source": [
    "##### Keyword Arguments"
   ]
  },
  {
   "cell_type": "code",
   "execution_count": 28,
   "metadata": {},
   "outputs": [
    {
     "name": "stdout",
     "output_type": "stream",
     "text": [
      "You have made a payment of $100 to Account #8947489589\n",
      "Your new balance is $900\n",
      "Thank you for your payment!\n"
     ]
    }
   ],
   "source": [
    "def make_a_payment(total_amount_due, amount_paid, account_number):\n",
    "    new_total = total_amount_due - amount_paid\n",
    "    print(f\"You have made a payment of ${amount_paid} to Account #{account_number}\")\n",
    "    print(f\"Your new balance is ${new_total}\")\n",
    "    print(\"Thank you for your payment!\")\n",
    "    \n",
    "    \n",
    "make_a_payment(1000, 100, '8947489589')"
   ]
  },
  {
   "cell_type": "code",
   "execution_count": 31,
   "metadata": {},
   "outputs": [
    {
     "name": "stdout",
     "output_type": "stream",
     "text": [
      "You have made a payment of $200 to Account #395894385\n",
      "Your new balance is $1800\n",
      "Thank you for your payment!\n"
     ]
    }
   ],
   "source": [
    "make_a_payment(account_number='395894385', total_amount_due=2000, amount_paid=200)"
   ]
  },
  {
   "cell_type": "code",
   "execution_count": 32,
   "metadata": {},
   "outputs": [
    {
     "name": "stdout",
     "output_type": "stream",
     "text": [
      "You have made a payment of $1244 to Account #32425345\n",
      "Your new balance is $8756\n",
      "Thank you for your payment!\n"
     ]
    }
   ],
   "source": [
    "make_a_payment(10000, account_number='32425345', amount_paid=1244)"
   ]
  },
  {
   "cell_type": "code",
   "execution_count": 36,
   "metadata": {},
   "outputs": [],
   "source": [
    "# make_a_payment(account_number='23435345', 10000, 324) # positional arguments must come before keyword arguments"
   ]
  },
  {
   "cell_type": "markdown",
   "metadata": {},
   "source": [
    "##### Default Parameters"
   ]
  },
  {
   "cell_type": "code",
   "execution_count": 53,
   "metadata": {
    "scrolled": true
   },
   "outputs": [
    {
     "name": "stdout",
     "output_type": "stream",
     "text": [
      "Thank you Brian. Here is your receipt:\n",
      "1 Hamburger\n",
      "\twith cheese\n",
      "\twith lettuce\n",
      "\twith tomato\n",
      "Total: $4.50\n"
     ]
    }
   ],
   "source": [
    "# default parameter need to be AFTER non-default parameters at all times\n",
    "\n",
    "def make_a_burger(customer_name, cheese=True, lettuce=True, tomato=True, onions=''):\n",
    "    total_price = 4.50\n",
    "    message = f'Thank you {customer_name}. Here is your receipt:\\n'\n",
    "    message += '1 Hamburger\\n'\n",
    "    if cheese:\n",
    "        message += '\\twith cheese\\n'\n",
    "    if lettuce:\n",
    "        message += '\\twith lettuce\\n'\n",
    "    if tomato:\n",
    "        message += '\\twith tomato\\n'\n",
    "    if onions:\n",
    "        message += f'\\twith {onions} onions\\n'\n",
    "        total_price += .50 # total_price = total_price + .50\n",
    "    message += f'Total: ${total_price:.2f}'\n",
    "    print(message)\n",
    "    \n",
    "    \n",
    "make_a_burger('Brian')"
   ]
  },
  {
   "cell_type": "code",
   "execution_count": 54,
   "metadata": {},
   "outputs": [
    {
     "name": "stdout",
     "output_type": "stream",
     "text": [
      "Thank you Claire. Here is your receipt:\n",
      "1 Hamburger\n",
      "\twith lettuce\n",
      "Total: $4.50\n"
     ]
    }
   ],
   "source": [
    "make_a_burger('Claire', False, True, False)"
   ]
  },
  {
   "cell_type": "code",
   "execution_count": 55,
   "metadata": {},
   "outputs": [
    {
     "name": "stdout",
     "output_type": "stream",
     "text": [
      "Thank you David. Here is your receipt:\n",
      "1 Hamburger\n",
      "\twith cheese\n",
      "\twith lettuce\n",
      "\twith tomato\n",
      "\twith grilled onions\n",
      "Total: $5.00\n"
     ]
    }
   ],
   "source": [
    "make_a_burger('David', onions='grilled')"
   ]
  },
  {
   "cell_type": "markdown",
   "metadata": {},
   "source": [
    "##### \\*args and **kwargs"
   ]
  },
  {
   "cell_type": "code",
   "execution_count": 56,
   "metadata": {},
   "outputs": [
    {
     "name": "stdout",
     "output_type": "stream",
     "text": [
      "Help on built-in function max in module builtins:\n",
      "\n",
      "max(...)\n",
      "    max(iterable, *[, default=obj, key=func]) -> value\n",
      "    max(arg1, arg2, *args, *[, key=func]) -> value\n",
      "    \n",
      "    With a single iterable argument, return its biggest item. The\n",
      "    default keyword-only argument specifies an object to return if\n",
      "    the provided iterable is empty.\n",
      "    With two or more arguments, return the largest argument.\n",
      "\n"
     ]
    }
   ],
   "source": [
    "help(max)"
   ]
  },
  {
   "cell_type": "code",
   "execution_count": 69,
   "metadata": {
    "scrolled": true
   },
   "outputs": [
    {
     "name": "stdout",
     "output_type": "stream",
     "text": [
      "a\n",
      "('b', 'c', 'd', 'e', 'f')\n",
      "<class 'tuple'>\n",
      "{'key': 'value', 'num': 10}\n",
      "<class 'dict'>\n"
     ]
    }
   ],
   "source": [
    "def my_function(arg1, *args, **kwargs):\n",
    "    print(arg1)\n",
    "    print(args)\n",
    "    print(type(args))\n",
    "    print(kwargs)\n",
    "    print(type(kwargs))\n",
    "    \n",
    "my_function('a', 'b', 'c', 'd', 'e', 'f', key='value', num=10)"
   ]
  },
  {
   "cell_type": "code",
   "execution_count": 63,
   "metadata": {},
   "outputs": [
    {
     "data": {
      "text/plain": [
       "2345"
      ]
     },
     "execution_count": 63,
     "metadata": {},
     "output_type": "execute_result"
    }
   ],
   "source": [
    "max(23, 435, 657, 234, 456, 8, 2345, 2344, 46, 345)"
   ]
  },
  {
   "cell_type": "markdown",
   "metadata": {},
   "source": [
    "#### In Class Exercise 1"
   ]
  },
  {
   "cell_type": "markdown",
   "metadata": {},
   "source": [
    "Create a function that takes in a color, make, and model and formats it into a string.<br>\n",
    "Then loop over the cars list and apply the function to each element.<br>\n",
    "Expected Output:<br>\n",
    "<code>Blue Toyota Tundra\n",
    "Green Chevy Silverado\n",
    "Pink Ford F-150</code>\n"
   ]
  },
  {
   "cell_type": "code",
   "execution_count": 71,
   "metadata": {},
   "outputs": [
    {
     "name": "stdout",
     "output_type": "stream",
     "text": [
      "Green Ford Focus\n"
     ]
    }
   ],
   "source": [
    "cars = [('blue', 'toyota', 'tundra'), ('green', 'chevy', 'silverado'), ('pink', 'ford', 'f-150')]\n",
    "\n",
    "def format_car(color, make, model):\n",
    "    print(f\"{color.title()} {make.title()} {model.title()}\")\n",
    "    \n",
    "    \n",
    "format_car('green', 'ford', 'focus')"
   ]
  },
  {
   "cell_type": "code",
   "execution_count": 74,
   "metadata": {},
   "outputs": [
    {
     "name": "stdout",
     "output_type": "stream",
     "text": [
      "Blue Toyota Tundra\n",
      "Green Chevy Silverado\n",
      "Pink Ford F-150\n"
     ]
    }
   ],
   "source": [
    "for c in cars:\n",
    "    format_car(c[0], c[1], c[2])"
   ]
  },
  {
   "cell_type": "code",
   "execution_count": 75,
   "metadata": {},
   "outputs": [
    {
     "name": "stdout",
     "output_type": "stream",
     "text": [
      "green\n",
      "ford\n",
      "focus\n"
     ]
    }
   ],
   "source": [
    "car = ('green', 'ford', 'focus')\n",
    "\n",
    "car, make, model = car\n",
    "\n",
    "print(car)\n",
    "print(make)\n",
    "print(model)"
   ]
  },
  {
   "cell_type": "code",
   "execution_count": 80,
   "metadata": {},
   "outputs": [
    {
     "name": "stdout",
     "output_type": "stream",
     "text": [
      "Blue Toyota Tundra\n",
      "Green Chevy Silverado\n",
      "Pink Ford F-150\n"
     ]
    }
   ],
   "source": [
    "for color, make, model in cars:\n",
    "    format_car(color, make, model)"
   ]
  },
  {
   "cell_type": "code",
   "execution_count": 81,
   "metadata": {},
   "outputs": [
    {
     "name": "stdout",
     "output_type": "stream",
     "text": [
      "(0, ('blue', 'toyota', 'tundra'))\n",
      "(1, ('green', 'chevy', 'silverado'))\n",
      "(2, ('pink', 'ford', 'f-150'))\n"
     ]
    }
   ],
   "source": [
    "for x in enumerate(cars):\n",
    "    print(x)"
   ]
  },
  {
   "cell_type": "code",
   "execution_count": 87,
   "metadata": {},
   "outputs": [
    {
     "name": "stdout",
     "output_type": "stream",
     "text": [
      "('blue', 'chevy', 'tahoe', '4-wheels', 32534)\n",
      "Blue Chevy Tahoe 4-Wheels 32534\n"
     ]
    }
   ],
   "source": [
    "def format_car2(*args):\n",
    "    output_string = ''\n",
    "    print(args)\n",
    "    for arg in args:\n",
    "        if isinstance(arg, int):\n",
    "            output_string += str(arg)\n",
    "        else:\n",
    "            output_string += arg.title() + ' '\n",
    "    print(output_string)\n",
    "       \n",
    "format_car2('blue', 'chevy', 'tahoe', '4-wheels', 32534)"
   ]
  },
  {
   "cell_type": "code",
   "execution_count": 92,
   "metadata": {},
   "outputs": [
    {
     "name": "stdout",
     "output_type": "stream",
     "text": [
      "argument 2 argument 1\n",
      "{'random_arg_name': 'random arg value'}\n"
     ]
    }
   ],
   "source": [
    "def my_func(param1, param2, **kwargs):\n",
    "    print(param1, param2)\n",
    "    print(kwargs)\n",
    "    \n",
    "# print(param1)\n",
    "    \n",
    "my_func(param2 = 'argument 1', param1 = 'argument 2', random_arg_name='random arg value')"
   ]
  },
  {
   "cell_type": "markdown",
   "metadata": {},
   "source": [
    "## Scope <br>\n",
    "<p>Scope refers to the ability to access variables, different types of scope include:<br>a) Global<br>b) Function (local)<br>c) Class (local)</p>"
   ]
  },
  {
   "cell_type": "code",
   "execution_count": 99,
   "metadata": {},
   "outputs": [
    {
     "name": "stdout",
     "output_type": "stream",
     "text": [
      "Average Jack\n",
      "Big Mike has been assigned to Ms. Buttercup's class\n",
      "Little Joe\n"
     ]
    }
   ],
   "source": [
    "student = 'Little Joe' # Globally-scoped variables\n",
    "teacher = 'Ms. Buttercup' # Global\n",
    "\n",
    "def assign_student(student_name):\n",
    "    student = 'Average Jack'\n",
    "    print(student)\n",
    "    print(f\"{student_name} has been assigned to {teacher}'s class\")\n",
    "\n",
    "assign_student(\"Big Mike\")\n",
    "# print(student_name) # NameError: name 'student_name' is not defined\n",
    "print(student)"
   ]
  },
  {
   "cell_type": "markdown",
   "metadata": {},
   "source": [
    "##### Returning Values"
   ]
  },
  {
   "cell_type": "code",
   "execution_count": 100,
   "metadata": {},
   "outputs": [
    {
     "name": "stdout",
     "output_type": "stream",
     "text": [
      "436\n"
     ]
    }
   ],
   "source": [
    "# Mathematical Function - y = f(x)\n",
    "# Where f is the function, x is the input(s), and y is the dependent variable (or the return variable)\n",
    "\n",
    "my_list = [45, 234, 7, 32, 67, 17, 436, 325]\n",
    "max_in_a_list = max(my_list)\n",
    "print(max_in_a_list)"
   ]
  },
  {
   "cell_type": "code",
   "execution_count": 108,
   "metadata": {},
   "outputs": [
    {
     "name": "stdout",
     "output_type": "stream",
     "text": [
      "12\n"
     ]
    }
   ],
   "source": [
    "def f(x):\n",
    "    return 2 * x\n",
    "\n",
    "y = f(6)\n",
    "print(y)"
   ]
  },
  {
   "cell_type": "code",
   "execution_count": 109,
   "metadata": {},
   "outputs": [
    {
     "data": {
      "text/plain": [
       "144"
      ]
     },
     "execution_count": 109,
     "metadata": {},
     "output_type": "execute_result"
    }
   ],
   "source": [
    "y ** 2"
   ]
  },
  {
   "cell_type": "code",
   "execution_count": 115,
   "metadata": {
    "scrolled": true
   },
   "outputs": [
    {
     "name": "stdout",
     "output_type": "stream",
     "text": [
      "0\n"
     ]
    }
   ],
   "source": [
    "# Return will also immediately terminate the function\n",
    "def early_return(n):\n",
    "    for i in range(n):\n",
    "        return i\n",
    "    \n",
    "value = early_return(20)\n",
    "print(value)"
   ]
  },
  {
   "cell_type": "code",
   "execution_count": 117,
   "metadata": {},
   "outputs": [
    {
     "name": "stdout",
     "output_type": "stream",
     "text": [
      "10\n"
     ]
    }
   ],
   "source": [
    "def early_return_again(n):\n",
    "    for i in range(10,n):\n",
    "        return i\n",
    "    print('Hello I am after the loop')\n",
    "    \n",
    "value_again = early_return_again(20)\n",
    "print(value_again)"
   ]
  },
  {
   "cell_type": "code",
   "execution_count": 121,
   "metadata": {},
   "outputs": [
    {
     "name": "stdout",
     "output_type": "stream",
     "text": [
      "Frank is not Connor\n",
      "Jack is not Connor\n"
     ]
    },
    {
     "data": {
      "text/plain": [
       "'Connor'"
      ]
     },
     "execution_count": 121,
     "metadata": {},
     "output_type": "execute_result"
    }
   ],
   "source": [
    "names = ['Frank', 'Jack', 'Connor', 'Mike', 'Dan', 'Bill']\n",
    "\n",
    "def stop_at_connor(a_list):\n",
    "    for element in a_list:\n",
    "        if element == 'Connor':\n",
    "            return element\n",
    "        else:\n",
    "            print(f'{element} is not Connor')\n",
    "            \n",
    "stop_at_connor(names)"
   ]
  },
  {
   "cell_type": "markdown",
   "metadata": {},
   "source": [
    "#### Multiple returns in a function"
   ]
  },
  {
   "cell_type": "code",
   "execution_count": 126,
   "metadata": {},
   "outputs": [
    {
     "name": "stdout",
     "output_type": "stream",
     "text": [
      "True\n"
     ]
    }
   ],
   "source": [
    "def can_vote(birth_year):\n",
    "    if 2022 - birth_year >= 18:\n",
    "        return True\n",
    "    return False\n",
    "    \n",
    "print(can_vote(2000))\n",
    "# print(can_vote(2010))"
   ]
  },
  {
   "cell_type": "markdown",
   "metadata": {},
   "source": [
    "##### Difference between `return` and `print`"
   ]
  },
  {
   "cell_type": "code",
   "execution_count": 130,
   "metadata": {},
   "outputs": [
    {
     "name": "stdout",
     "output_type": "stream",
     "text": [
      "I Love Python!\n",
      "\n",
      "    None\n",
      "    By: Brian\n",
      "    I love learning about Python, especially user defined functions!\n",
      "    \n"
     ]
    }
   ],
   "source": [
    "def format_clean_headline_print(headline):\n",
    "    print(headline.strip().title() + \"!\")\n",
    "\n",
    "def format_clean_headline_return(headline):\n",
    "    return headline.strip().title() + \"!\"\n",
    "\n",
    "def publish_article(headline, author, body):\n",
    "    clean_headline = format_clean_headline_print(headline)\n",
    "    print(f\"\"\"\n",
    "    {clean_headline}\n",
    "    By: {author}\n",
    "    {body}\n",
    "    \"\"\")\n",
    "    \n",
    "    \n",
    "publish_article('        i lOVe pYThoN    ', 'Brian', 'I love learning about Python, especially user defined functions!')"
   ]
  },
  {
   "cell_type": "markdown",
   "metadata": {},
   "source": [
    "#### Functions with Lists"
   ]
  },
  {
   "cell_type": "code",
   "execution_count": 150,
   "metadata": {},
   "outputs": [
    {
     "data": {
      "text/plain": [
       "<function __main__.clean_band_names(list_of_bands)>"
      ]
     },
     "execution_count": 150,
     "metadata": {},
     "output_type": "execute_result"
    }
   ],
   "source": [
    "def clean_band_names(list_of_bands):\n",
    "    cleaned_bands = []\n",
    "    for band in list_of_bands:\n",
    "        clean_name = band.strip('., ').title()\n",
    "        cleaned_bands.append(clean_name)\n",
    "    return cleaned_bands\n",
    "\n",
    "clean_band_names"
   ]
  },
  {
   "cell_type": "code",
   "execution_count": 151,
   "metadata": {},
   "outputs": [
    {
     "name": "stdout",
     "output_type": "stream",
     "text": [
      "['  thE beATles   ', 'tHe RoLLing sTones..', '.,tHe eagles', 'the tEMptationS  ']\n",
      "[' The whO  ', '  .   , tHE dOORS  ', ' the bAnd   ', '...,  THE kINks    ']\n"
     ]
    }
   ],
   "source": [
    "print(bands)\n",
    "print(bands2)"
   ]
  },
  {
   "cell_type": "code",
   "execution_count": 152,
   "metadata": {},
   "outputs": [
    {
     "name": "stdout",
     "output_type": "stream",
     "text": [
      "['The Beatles', 'The Rolling Stones', 'The Eagles', 'The Temptations']\n"
     ]
    }
   ],
   "source": [
    "cleaned_bands = clean_band_names(bands)\n",
    "print(cleaned_bands)"
   ]
  },
  {
   "cell_type": "code",
   "execution_count": 153,
   "metadata": {},
   "outputs": [
    {
     "name": "stdout",
     "output_type": "stream",
     "text": [
      "['The Who', 'The Doors', 'The Band', 'The Kinks']\n"
     ]
    }
   ],
   "source": [
    "cleaned_bands2 = clean_band_names(bands2)\n",
    "print(cleaned_bands2)"
   ]
  },
  {
   "cell_type": "code",
   "execution_count": 154,
   "metadata": {},
   "outputs": [
    {
     "name": "stdout",
     "output_type": "stream",
     "text": [
      "['Fleetwood Mac', 'Lynard Skynard', 'The Monkees']\n"
     ]
    }
   ],
   "source": [
    "def clean_bands(dirty_bands):\n",
    "    return [band.strip('., ').title() for band in dirty_bands]\n",
    "\n",
    "cleaned = clean_bands(['   .,fleetwood mac....', '....,, lynard skynard,   ', ',.ThE MOnkEes ,'])\n",
    "print(cleaned)"
   ]
  },
  {
   "cell_type": "markdown",
   "metadata": {},
   "source": [
    "#### In-Class Exercise 2"
   ]
  },
  {
   "cell_type": "markdown",
   "metadata": {},
   "source": [
    "Create a function that takes in the list of tuples ('city', 'country') and a country name and returns a list of the cities in that country"
   ]
  },
  {
   "cell_type": "code",
   "execution_count": 159,
   "metadata": {},
   "outputs": [
    {
     "name": "stdout",
     "output_type": "stream",
     "text": [
      "['Rome', 'Florence']\n",
      "['Barcelona', 'Madrid']\n"
     ]
    }
   ],
   "source": [
    "european_cities = [\n",
    "    (\"London\", \"England\"), \n",
    "    (\"Manchester\", \"England\"), \n",
    "    (\"Barcelona\", \"Spain\"), \n",
    "    (\"Madrid\", \"Spain\"), \n",
    "    (\"Rome\", \"Italy\"), \n",
    "    (\"Florence\", \"Italy\")\n",
    "]\n",
    "\n",
    "\n",
    "def cities_in_country(cities, country_name):\n",
    "    # create an empty list for storing cities in country\n",
    "    output = []\n",
    "    # loop through all of the tuples in cities\n",
    "    for city, country in cities:\n",
    "        # if the country in the tuple (1-index) is equal to the country name\n",
    "        if country == country_name:\n",
    "            # add the city in the tuple (0-index) to the output list\n",
    "            output.append(city)\n",
    "    # Once we have looped through all cities, return output list\n",
    "    return output\n",
    "\n",
    "\n",
    "italian_cities = cities_in_country(european_cities, 'Italy')\n",
    "print(italian_cities) # ['Rome', 'Florence']\n",
    "\n",
    "spanish_cities = cities_in_country(european_cities, 'Spain')\n",
    "print(spanish_cities) # ['Barcelona', 'Madrid']\n"
   ]
  },
  {
   "cell_type": "code",
   "execution_count": 160,
   "metadata": {},
   "outputs": [
    {
     "name": "stdout",
     "output_type": "stream",
     "text": [
      "['Rome', 'Florence']\n",
      "['Barcelona', 'Madrid']\n"
     ]
    }
   ],
   "source": [
    "def get_cities_from_country(cities, country_name):\n",
    "    return [city for city, country in cities if country == country_name]\n",
    "\n",
    "italian_cities = get_cities_from_country(european_cities, 'Italy')\n",
    "print(italian_cities) # ['Rome', 'Florence']\n",
    "\n",
    "spanish_cities = get_cities_from_country(european_cities, 'Spain')\n",
    "print(spanish_cities) # ['Barcelona', 'Madrid']"
   ]
  },
  {
   "cell_type": "markdown",
   "metadata": {},
   "source": [
    "#### Docstrings"
   ]
  },
  {
   "cell_type": "code",
   "execution_count": 161,
   "metadata": {},
   "outputs": [
    {
     "name": "stdout",
     "output_type": "stream",
     "text": [
      "Help on built-in function sum in module builtins:\n",
      "\n",
      "sum(iterable, /, start=0)\n",
      "    Return the sum of a 'start' value (default: 0) plus an iterable of numbers\n",
      "    \n",
      "    When the iterable is empty, return the start value.\n",
      "    This function is intended specifically for use with numeric values and may\n",
      "    reject non-numeric types.\n",
      "\n"
     ]
    }
   ],
   "source": [
    "help(sum)"
   ]
  },
  {
   "cell_type": "code",
   "execution_count": 162,
   "metadata": {},
   "outputs": [
    {
     "name": "stdout",
     "output_type": "stream",
     "text": [
      "Help on function get_cities_from_country in module __main__:\n",
      "\n",
      "get_cities_from_country(cities, country_name)\n",
      "\n"
     ]
    }
   ],
   "source": [
    "help(get_cities_from_country)"
   ]
  },
  {
   "cell_type": "code",
   "execution_count": 168,
   "metadata": {},
   "outputs": [
    {
     "name": "stdout",
     "output_type": "stream",
     "text": [
      "30\n"
     ]
    }
   ],
   "source": [
    "def add_nums(num1, num2):\n",
    "    \"\"\"\n",
    "    add_nums takes in two arguments (num1 and num2) and adds the two together. This function was intended specifically\n",
    "    with numeric values.\n",
    "    num1 -> int or float\n",
    "    num2 -> int or float\n",
    "    return int or float\n",
    "    \"\"\"\n",
    "    return num1 + num2\n",
    "\n",
    "val = add_nums(10,20)\n",
    "print(val)"
   ]
  },
  {
   "cell_type": "code",
   "execution_count": 169,
   "metadata": {},
   "outputs": [
    {
     "name": "stdout",
     "output_type": "stream",
     "text": [
      "Help on function add_nums in module __main__:\n",
      "\n",
      "add_nums(num1, num2)\n",
      "    add_nums takes in two arguments (num1 and num2) and adds the two together. This function was intended specifically\n",
      "    with numeric values.\n",
      "    num1 -> int or float\n",
      "    num2 -> int or float\n",
      "    return int or float\n",
      "\n"
     ]
    }
   ],
   "source": [
    "help(add_nums)"
   ]
  },
  {
   "cell_type": "markdown",
   "metadata": {},
   "source": [
    "#### Whiteboard Approach"
   ]
  },
  {
   "cell_type": "markdown",
   "metadata": {},
   "source": [
    "1. What are the input(s)?\n",
    "2. What are the output(s)?\n",
    "3. Consider constraints and edge cases\n",
    "4. Write out steps logically (No python)\n",
    "5. Pseudocode\n",
    "6. Code"
   ]
  },
  {
   "cell_type": "markdown",
   "metadata": {},
   "source": [
    "#### Whiteboard Example"
   ]
  },
  {
   "cell_type": "markdown",
   "metadata": {},
   "source": [
    "Find Even numbers<br>\n",
    "Create a function that, given a list as a parameter, finds the even numbers <br>\n",
    "inside the list. The function should then return a list.<br>\n",
    "Bonus: Use a list comprehension to find your solution<br>\n",
    "Example:<br>\n",
    "Input: [2, 7, 10, 11, 12]<br>\n",
    "Output: [2, 10, 12]<br>"
   ]
  },
  {
   "cell_type": "code",
   "execution_count": 170,
   "metadata": {},
   "outputs": [
    {
     "data": {
      "text/plain": [
       "[2, 10, 12]"
      ]
     },
     "execution_count": 170,
     "metadata": {},
     "output_type": "execute_result"
    }
   ],
   "source": [
    "# 1. Input(s): List[int]\n",
    "# 2. Output(s): List[int] -> all ints in the list should be even\n",
    "# 3. If input is empty or has no evens, return an empty list. Can assume all integers between -100 and 100\n",
    "\n",
    "# 4. Start at the beginning of the list, check each number to see if it is even (aka divisible by 2), if the number\n",
    "# is even, add the even number to our output list, if the number is odd, move on to next number. Once finished going\n",
    "# through the entire list, return the output list of only evens\n",
    "\n",
    "# 5. \n",
    "# define our function with one parameter (list of integers)\n",
    "    # create an empty list to be our output list\n",
    "    \n",
    "    # for loop trough each number in the list of integers\n",
    "    \n",
    "        # Check to see if the integer is divisible by 2 (remainder of 0 %)\n",
    "        \n",
    "            # if yes, append number to output list\n",
    "        \n",
    "        # if not, do nothing\n",
    "        \n",
    "    # once for loop finished, return output list\n",
    "    \n",
    "# Call/Execute the function with test argument\n",
    "\n",
    "\n",
    "# 6.\n",
    "def get_even_nums(list_of_nums):\n",
    "    even_nums = []\n",
    "    for num in list_of_nums:\n",
    "        if num % 2 == 0:\n",
    "            even_nums.append(num)\n",
    "    return even_nums\n",
    "\n",
    "\n",
    "get_even_nums([2,7,10,11,12])"
   ]
  },
  {
   "cell_type": "code",
   "execution_count": 174,
   "metadata": {},
   "outputs": [
    {
     "name": "stdout",
     "output_type": "stream",
     "text": [
      "[]\n"
     ]
    }
   ],
   "source": [
    "all_nums = [1, 3, 5, 7, 9]\n",
    "even_nums = get_even_nums(all_nums)\n",
    "print(even_nums)"
   ]
  },
  {
   "cell_type": "code",
   "execution_count": null,
   "metadata": {},
   "outputs": [],
   "source": []
  }
 ],
 "metadata": {
  "kernelspec": {
   "display_name": "Python 3",
   "language": "python",
   "name": "python3"
  },
  "language_info": {
   "codemirror_mode": {
    "name": "ipython",
    "version": 3
   },
   "file_extension": ".py",
   "mimetype": "text/x-python",
   "name": "python",
   "nbconvert_exporter": "python",
   "pygments_lexer": "ipython3",
   "version": "3.8.5"
  }
 },
 "nbformat": 4,
 "nbformat_minor": 2
}
